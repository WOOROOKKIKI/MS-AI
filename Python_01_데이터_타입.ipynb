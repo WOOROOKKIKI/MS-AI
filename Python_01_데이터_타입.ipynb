{
  "nbformat": 4,
  "nbformat_minor": 0,
  "metadata": {
    "colab": {
      "provenance": [],
      "authorship_tag": "ABX9TyNvpxv0AAZqvYZGKzGVAoLE",
      "include_colab_link": true
    },
    "kernelspec": {
      "name": "python3",
      "display_name": "Python 3"
    },
    "language_info": {
      "name": "python"
    }
  },
  "cells": [
    {
      "cell_type": "markdown",
      "metadata": {
        "id": "view-in-github",
        "colab_type": "text"
      },
      "source": [
        "<a href=\"https://colab.research.google.com/github/WOOROOKKIKI/test-repo/blob/main/Python_01_%EB%8D%B0%EC%9D%B4%ED%84%B0_%ED%83%80%EC%9E%85.ipynb\" target=\"_parent\"><img src=\"https://colab.research.google.com/assets/colab-badge.svg\" alt=\"Open In Colab\"/></a>"
      ]
    },
    {
      "cell_type": "code",
      "execution_count": null,
      "metadata": {
        "colab": {
          "base_uri": "https://localhost:8080/"
        },
        "id": "oLZ0Y2nOqINc",
        "outputId": "fae8a7a3-50e2-4c27-eed4-a0db12f7e6d2"
      },
      "outputs": [
        {
          "output_type": "stream",
          "name": "stdout",
          "text": [
            "Hello World\n"
          ]
        }
      ],
      "source": [
        "print('Hello World')\n"
      ]
    },
    {
      "cell_type": "code",
      "source": [
        "#변수 규칙\n",
        "a = 1\n",
        "b = 2\n",
        "#2a=3 항상 변수는 문자로 시작해야 한다.\n",
        "student_count = 100\n",
        "print(a*b, student_count)\n"
      ],
      "metadata": {
        "colab": {
          "base_uri": "https://localhost:8080/"
        },
        "id": "V4EUT_sUJYj8",
        "outputId": "aaf3dd7a-d39b-4a85-ab06-c8690cc15775"
      },
      "execution_count": null,
      "outputs": [
        {
          "output_type": "stream",
          "name": "stdout",
          "text": [
            "2 100\n"
          ]
        }
      ]
    },
    {
      "cell_type": "code",
      "source": [
        "# 대소문자를 구별한다.\n",
        "friend = 1\n",
        "Friend = 10\n",
        "print(friend)"
      ],
      "metadata": {
        "colab": {
          "base_uri": "https://localhost:8080/"
        },
        "id": "huSOcGMfP4fA",
        "outputId": "68788f7d-46f1-4a83-9f6b-b1149a17e453"
      },
      "execution_count": null,
      "outputs": [
        {
          "output_type": "stream",
          "name": "stdout",
          "text": [
            "1\n"
          ]
        }
      ]
    },
    {
      "cell_type": "code",
      "source": [
        "#예약어는 사용할 수 없다.\n",
        "for = 1\n"
      ],
      "metadata": {
        "colab": {
          "base_uri": "https://localhost:8080/",
          "height": 130
        },
        "id": "BBEVWvopQyva",
        "outputId": "49fc2a52-05cc-4842-b842-ade3edd7aa40"
      },
      "execution_count": null,
      "outputs": [
        {
          "output_type": "error",
          "ename": "SyntaxError",
          "evalue": "ignored",
          "traceback": [
            "\u001b[0;36m  File \u001b[0;32m\"<ipython-input-12-9b1cb4033c27>\"\u001b[0;36m, line \u001b[0;32m2\u001b[0m\n\u001b[0;31m    for = 1\u001b[0m\n\u001b[0m        ^\u001b[0m\n\u001b[0;31mSyntaxError\u001b[0m\u001b[0;31m:\u001b[0m invalid syntax\n"
          ]
        }
      ]
    },
    {
      "cell_type": "code",
      "source": [
        "#숫자형\n",
        "year = 2023\n",
        "month = 4\n",
        "print(year,month)"
      ],
      "metadata": {
        "colab": {
          "base_uri": "https://localhost:8080/"
        },
        "id": "fM06nFEQQ--F",
        "outputId": "3c92f617-c8dc-45f7-ed21-a2cf714a45ef"
      },
      "execution_count": null,
      "outputs": [
        {
          "output_type": "stream",
          "name": "stdout",
          "text": [
            "2023 4\n"
          ]
        }
      ]
    },
    {
      "cell_type": "code",
      "source": [
        "year = 'Test'"
      ],
      "metadata": {
        "id": "dELeqsr3ROWj"
      },
      "execution_count": null,
      "outputs": []
    },
    {
      "cell_type": "code",
      "source": [
        "print(str(3.14))\n",
        "print(int(49))"
      ],
      "metadata": {
        "colab": {
          "base_uri": "https://localhost:8080/"
        },
        "id": "uOKJQN_4uWRS",
        "outputId": "ebfad0dd-921b-4a38-aa87-b44d47478b3e"
      },
      "execution_count": null,
      "outputs": [
        {
          "output_type": "stream",
          "name": "stdout",
          "text": [
            "3.14\n",
            "49\n"
          ]
        }
      ]
    },
    {
      "cell_type": "code",
      "source": [],
      "metadata": {
        "id": "5eObTel-uZoQ"
      },
      "execution_count": null,
      "outputs": []
    }
  ]
}